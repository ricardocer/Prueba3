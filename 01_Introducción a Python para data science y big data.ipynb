{
 "cells": [
  {
   "cell_type": "markdown",
   "id": "proof-excuse",
   "metadata": {},
   "source": [
    "# I. Introducción a Python para data science y big data"
   ]
  },
  {
   "cell_type": "markdown",
   "id": "speaking-banking",
   "metadata": {},
   "source": [
    "## Evaluación de las necesidades de big data\n",
    "\n",
    "Se tiene que analizar si realmente necesitamos big data. En muchas ocasiones, big data es inevitable. Así, es necesario tomar en cuenta la capacidad del ordenador por lo que hay que considerar los siguientes parámetros: \n",
    "\n",
    "* **Memoria RAM:** Determina cuánta información podemos procesar al mismo tiempo.\n",
    "* **Memoria en disco:** Determina el volumen total de información que podemos llegar a gestionar con el código adecuado.\n",
    "* **Memoria en disco:** Número de procesadores de los cuáles disponemos que determinarán la rapidez en la cual se ejecute el código.\n",
    "\n",
    "Antes de procesar todos los datos de golpe, se recomienda seleccionar solo una fracción de todos ellos, buscando observar la respuesta del ordenador ante la ejecución del código seleccionado."
   ]
  },
  {
   "cell_type": "markdown",
   "id": "tracked-surname",
   "metadata": {},
   "source": [
    "## Instalar Jupyter Notebook\n",
    "\n",
    "Cuando se compila una celda, el *output* sale en la celda inmediata.\n",
    "\n",
    "#### ***Comandos con teclado:***\n",
    "* Para comentar varias líneas, basta con seleccionarlas y oprimir el comando: *ctrl + ]*\n",
    "\n",
    "* Para correr la indetación a la derecha: *tab*\n",
    "\n",
    "* Para correr la indetación a la izquierda: *shift + tab*\n",
    "\n",
    "#### ***Instalación de nuevos paquetes en anaconda:***\n",
    "\n",
    "* En el buscador se teclea **Anaconda Prompt**\n",
    "* Se coloca: **conda install nombre_paquete**"
   ]
  },
  {
   "cell_type": "markdown",
   "id": "fd4535fb",
   "metadata": {},
   "source": [
    "## Instalar PySpark\n",
    "\n",
    "Se sugiere obervar el siguiente video: https://www.youtube.com/watch?v=U-kHrMF3b-A&list=PLYFBiuYObvKB_k0bnkI41biMjD12t44GN&index=2"
   ]
  },
  {
   "cell_type": "code",
   "execution_count": 5,
   "id": "70f18769",
   "metadata": {},
   "outputs": [],
   "source": [
    "import findspark \n",
    "findspark.init() #Esto solo se usa la primera vez\n",
    "\n",
    "import pyspark"
   ]
  },
  {
   "cell_type": "code",
   "execution_count": 2,
   "id": "852e58be",
   "metadata": {},
   "outputs": [],
   "source": [
    "from pyspark.sql import SparkSession"
   ]
  },
  {
   "cell_type": "code",
   "execution_count": 3,
   "id": "a69fbf7e",
   "metadata": {},
   "outputs": [],
   "source": [
    "spark = SparkSession.builder.getOrCreate()\n",
    "spark"
   ]
  },
  {
   "cell_type": "markdown",
   "id": "4dd8422a",
   "metadata": {},
   "source": [
    "## Evaluar la eficiencia de nuestro código\n",
    "\n",
    "Para esto, se recurre a dos paqueterías de Python: ***time*** y ***datatime***. Se utiliza la siguiente sintaxis:\n",
    "\n",
    "* import time as tm\n",
    "* start = tm.time()\n",
    "* #Código\n",
    "* end = tm.time()\n",
    "* print(\"Tiempo de ejecución: \",end-start)\n",
    "\n",
    "A continuación se presenta un ejemplo en el que se quiere estimar la esperanza del lanzamiento de un dado. Se proponen dos métodos, veámos cuál es más eficiente en tiempo."
   ]
  },
  {
   "cell_type": "markdown",
   "id": "b2ba766f",
   "metadata": {},
   "source": [
    "#### ***Paquetería time***"
   ]
  },
  {
   "cell_type": "code",
   "execution_count": 101,
   "id": "3fe8561f",
   "metadata": {},
   "outputs": [],
   "source": [
    "# Primero cargamos las paqueterías necesarias\n",
    "import time as tm\n",
    "import random as rd\n",
    "import math as ma\n",
    "import numpy as np\n",
    "\n",
    "#Función que me genera un lanzamiento. Así, los posibles resultados son: 1, 2, ..., 6\n",
    "def f():\n",
    "  return ( ma.floor( 6 * rd.random() ) + 1 )\n",
    "\n",
    "\n",
    "n = 10**6\n",
    "l1 = []\n",
    "l2 = [0]*n"
   ]
  },
  {
   "cell_type": "code",
   "execution_count": 102,
   "id": "76d653a8",
   "metadata": {},
   "outputs": [
    {
     "name": "stdout",
     "output_type": "stream",
     "text": [
      "La esperanza del lanzamiento de un dado es: 3.50\n",
      "El tiempo de ejecución fue de: 0.77507\n"
     ]
    }
   ],
   "source": [
    "#Método I. Función append\n",
    "start_1 = tm.time()\n",
    "\n",
    "for i in range(n):\n",
    "    l1.append(f())\n",
    "\n",
    "end_1 = tm.time()\n",
    "\n",
    "print(\"La esperanza del lanzamiento de un dado es: %2.2f\"%np.mean(l1))\n",
    "print(\"El tiempo de ejecución fue de: %2.5f\"%(end_1-start_1))"
   ]
  },
  {
   "cell_type": "code",
   "execution_count": 103,
   "id": "14b7b9f2",
   "metadata": {},
   "outputs": [
    {
     "name": "stdout",
     "output_type": "stream",
     "text": [
      "La esperanza del lanzamiento de un dado es: 3.50\n",
      "El tiempo de ejecución del 'Método II' fue de: 0.67005\n"
     ]
    }
   ],
   "source": [
    "#Método II. Asignando el resultado de un lanzamiento a cada entrada del vector l2\n",
    "start_2 = tm.time()\n",
    "\n",
    "for i in range(n):\n",
    "    l2[i] = f()\n",
    "\n",
    "end_2 = tm.time()\n",
    "\n",
    "print(\"La esperanza del lanzamiento de un dado es: %2.2f\"%np.mean(l2))\n",
    "print(\"El tiempo de ejecución del 'Método II' fue de: %2.5f\"%(end_2-start_2))"
   ]
  },
  {
   "cell_type": "markdown",
   "id": "fd87bd3d",
   "metadata": {},
   "source": [
    "**Observación:** Como se puede apreciar en los Métodos I y II, el código más eficiente fue el II pues tuvo un menor tiempo de ejecución.\n",
    "\n",
    "Es necesario mencionar que el código a ejecutar es sencillo por lo que la diferencia entre tiempos de ejecución no es significativa."
   ]
  },
  {
   "cell_type": "markdown",
   "id": "962e9597",
   "metadata": {},
   "source": [
    "#### ***Paquetería time***"
   ]
  },
  {
   "cell_type": "code",
   "execution_count": 104,
   "id": "91267eb8",
   "metadata": {},
   "outputs": [],
   "source": [
    "# Primero cargamos las paqueterías necesarias\n",
    "import time as tm\n",
    "from datetime import timedelta as tim\n",
    "\n",
    "n = 10**6\n",
    "l1 = []\n",
    "l2 = [0]*n"
   ]
  },
  {
   "cell_type": "code",
   "execution_count": 106,
   "id": "da09e6d8",
   "metadata": {},
   "outputs": [
    {
     "name": "stdout",
     "output_type": "stream",
     "text": [
      "La esperanza del lanzamiento de un dado es: 3.50\n",
      "El tiempo de ejecución del 'Método I' fue de: 0:00:00.844000\n"
     ]
    }
   ],
   "source": [
    "#Método I. Función append\n",
    "start_1 = tm.monotonic()\n",
    "\n",
    "for i in range(n):\n",
    "    l1.append(f())\n",
    "\n",
    "end_1 = tm.monotonic()\n",
    "\n",
    "print(\"La esperanza del lanzamiento de un dado es: %2.2f\"%np.mean(l1))\n",
    "print(\"El tiempo de ejecución del 'Método I' fue de:\",tim(seconds = end_1-start_1))"
   ]
  },
  {
   "cell_type": "code",
   "execution_count": 107,
   "id": "87b87916",
   "metadata": {},
   "outputs": [
    {
     "name": "stdout",
     "output_type": "stream",
     "text": [
      "La esperanza del lanzamiento de un dado es: 3.50\n",
      "El tiempo de ejecución del 'Método I' fue de: 0:00:00.844000\n",
      "True\n"
     ]
    }
   ],
   "source": [
    "#Método II. Asignando el resultado de un lanzamiento a cada entrada del vector l2\n",
    "start_2 = tm.monotonic()\n",
    "\n",
    "for i in range(n):\n",
    "    l2[i] = f()\n",
    "\n",
    "end_2 = tm.monotonic()\n",
    "\n",
    "print(\"La esperanza del lanzamiento de un dado es: %2.2f\"%np.mean(l2))\n",
    "print(\"El tiempo de ejecución del 'Método I' fue de:\",tim(seconds = end_1-start_1))\n",
    "\n",
    "print(end_1-start_1 > end_2-start_2)"
   ]
  },
  {
   "cell_type": "markdown",
   "id": "bab8aa3b",
   "metadata": {},
   "source": [
    "**Observación:** A través de la funciónn **datatime**, el tiempo de ejecución del código fue de **0 horas , 0 minutos, 0.84 segundos**. Dado que el tiempo de ejecución del Método I es mayor que el del Método II, decimos que el segundo código es más eficiente"
   ]
  }
 ],
 "metadata": {
  "kernelspec": {
   "display_name": "Python 3 (ipykernel)",
   "language": "python",
   "name": "python3"
  },
  "language_info": {
   "codemirror_mode": {
    "name": "ipython",
    "version": 3
   },
   "file_extension": ".py",
   "mimetype": "text/x-python",
   "name": "python",
   "nbconvert_exporter": "python",
   "pygments_lexer": "ipython3",
   "version": "3.9.7"
  }
 },
 "nbformat": 4,
 "nbformat_minor": 5
}
