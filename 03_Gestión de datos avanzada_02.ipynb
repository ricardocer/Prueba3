{
 "cells": [
  {
   "cell_type": "markdown",
   "id": "6d7268af",
   "metadata": {},
   "source": [
    "## Análisis de datos extremos, ya sean pequeños o grandes (outliers)\n",
    "\n",
    "Se exploran dos maneras de seleccionarlos:\n",
    "* Un criterio para una sola variable en la manera más clásica: definir dos umbrales\n",
    "* Una aproximación multidimensional"
   ]
  },
  {
   "cell_type": "code",
   "execution_count": 18,
   "id": "cd46ef8d",
   "metadata": {},
   "outputs": [],
   "source": [
    "import pandas as pd\n",
    "import numpy as np\n",
    "\n",
    "n = 10**5\n",
    "df = pd.read_csv(r\"C:\\COVID_pruebas\\base_datos_2008.csv\", nrows=n )"
   ]
  },
  {
   "cell_type": "code",
   "execution_count": 19,
   "id": "80a925b0",
   "metadata": {},
   "outputs": [],
   "source": [
    "x = df[\"ArrDelay\"].dropna()"
   ]
  },
  {
   "cell_type": "markdown",
   "id": "494340e7",
   "metadata": {},
   "source": [
    "### *Método I:*  definir dos umbrales"
   ]
  },
  {
   "cell_type": "code",
   "execution_count": 29,
   "id": "0b3b1207",
   "metadata": {},
   "outputs": [],
   "source": [
    "Q1 = np.percentile(x,25)\n",
    "Q3 = np.percentile(x,75)\n",
    "rangointer = Q3 - Q1\n",
    "\n",
    "#Rango intercuantílico := Q3 - Q1"
   ]
  },
  {
   "cell_type": "code",
   "execution_count": 30,
   "id": "65841c60",
   "metadata": {},
   "outputs": [
    {
     "name": "stdout",
     "output_type": "stream",
     "text": [
      "Se consideran outliers aquellos que estén fuera de: -37.5  y  38.5\n"
     ]
    }
   ],
   "source": [
    "umbralinferior = Q1 - 1.5*rangointer\n",
    "umbralsuperior = Q3 + 1.5*rangointer\n",
    "\n",
    "print(\"Se consideran outliers aquellos que estén fuera de:\",umbralinferior,\" y \",umbralsuperior)"
   ]
  },
  {
   "cell_type": "code",
   "execution_count": 37,
   "id": "16afc9ee",
   "metadata": {},
   "outputs": [
    {
     "name": "stdout",
     "output_type": "stream",
     "text": [
      "Numero de casos por 'encima' del umbral superior: 0.0839\n",
      "Numero de casos por 'debajo' del umbral inferior: 0.0019\n",
      "\n",
      "Decimos entonces que la distribución de ArrDelay no es simétrica\n"
     ]
    }
   ],
   "source": [
    "print(\"Numero de casos por 'encima' del umbral superior:\", round( np.mean(x>38.5),4) )\n",
    "print(\"Numero de casos por 'debajo' del umbral inferior:\", round( np.mean(x<-37.5),4) )\n",
    "\n",
    "print(\"\\nDecimos entonces que la distribución de ArrDelay no es simétrica\")"
   ]
  },
  {
   "cell_type": "markdown",
   "id": "76e32a49",
   "metadata": {},
   "source": [
    "También es posible analizar varias variables a la vez y se hace con el paquete **sklearn.covariance**"
   ]
  },
  {
   "cell_type": "code",
   "execution_count": 38,
   "id": "ded21bbb",
   "metadata": {},
   "outputs": [],
   "source": [
    "from sklearn.covariance import EllipticEnvelope\n",
    "\n",
    "outliers = EllipticEnvelope( contamination = 0.01 )\n",
    "#Se crea un modelo que selecciona el 1% de los datos que considere que están muy alejados de nuestros datos más centrados."
   ]
  },
  {
   "cell_type": "code",
   "execution_count": 43,
   "id": "2c9073b0",
   "metadata": {},
   "outputs": [],
   "source": [
    "var_list = [\"DepDelay\",\"TaxiIn\",\"TaxiOut\",\"CarrierDelay\",\"WeatherDelay\",\"NASDelay\",\"SecurityDelay\",\"LateAircraftDelay\"]\n",
    "#Se analiza toda una lista de variables, TODAS ELLAS SON CUANTITATIVAS.\n",
    "# Este modelo asume la distribución normal de toda la lista de variables. ESTO NO TIENE POR QUÉ OCURRIR"
   ]
  },
  {
   "cell_type": "code",
   "execution_count": 47,
   "id": "c288e5c7",
   "metadata": {},
   "outputs": [],
   "source": [
    "x = np.array( df.loc[ :, var_list ].dropna() )\n",
    "#Nuevamente se define la x"
   ]
  },
  {
   "cell_type": "code",
   "execution_count": 48,
   "id": "41209de1",
   "metadata": {},
   "outputs": [
    {
     "data": {
      "text/plain": [
       "EllipticEnvelope(contamination=0.01)"
      ]
     },
     "execution_count": 48,
     "metadata": {},
     "output_type": "execute_result"
    }
   ],
   "source": [
    "outliers.fit(x)\n",
    "#Se entrena el modelo.\n",
    "# \"outliers\", que es el modelo + .fit\n",
    "# \"x\" son nuestros datos"
   ]
  },
  {
   "cell_type": "code",
   "execution_count": 55,
   "id": "b6a77418",
   "metadata": {},
   "outputs": [
    {
     "data": {
      "text/plain": [
       "array([  444,  1161,  1188,  1191,  1412,  1418,  1503,  1634,  1911,\n",
       "        1914,  2005,  2082,  2120,  2123,  2145,  2539,  2612,  2613,\n",
       "        2725,  2771,  2937,  3120,  3589,  4146,  4265,  4430,  4437,\n",
       "        4488,  4512,  4621,  4676,  4725,  5772,  5996,  5997,  6329,\n",
       "        6358,  6515,  7245,  7257,  7460,  7480,  7481,  7620,  7698,\n",
       "        7701,  7702,  7703,  7707,  7715,  8098,  8130,  8267,  8294,\n",
       "        8298,  8327,  8484,  8566,  8683,  8691,  8865,  8993,  9922,\n",
       "       10216, 10250, 10280, 10469, 10618, 10681, 10720, 10910, 11021,\n",
       "       11231, 11237, 11242, 11316, 11955, 12085, 12088, 12240, 12452,\n",
       "       12513, 12607, 12700, 12905, 12927, 12934, 13275, 13276, 13278,\n",
       "       14259, 14282, 14285, 14297, 14318, 14358, 14367, 14510, 14544,\n",
       "       14557, 14558, 14647, 14658, 14785, 14789, 14792, 14831, 14858,\n",
       "       14870, 14871, 14880, 14881, 14940, 14945, 14946, 14947, 14948,\n",
       "       14988, 15008, 15009, 15029, 15086, 15150, 15192, 15195, 15196,\n",
       "       15197, 15202, 15295, 15352, 15372, 15379, 15385, 15393, 15412,\n",
       "       15434, 15438, 15439, 15540, 15566, 15596, 15598, 16069, 16274,\n",
       "       16287, 16294, 16497, 16598, 16738, 16740, 16742, 16788, 16805,\n",
       "       16943, 17080, 17099, 17100, 17119, 17175, 17230, 17260, 17261,\n",
       "       17262, 17297, 17387, 17388, 17484, 17486, 17535, 17545, 17732,\n",
       "       17770, 17775, 17776, 17846, 17852, 17879, 17958, 17995, 18082,\n",
       "       18129, 18228, 18229, 18238, 18315, 18496, 18524, 18530, 18739,\n",
       "       18803, 18819, 18956, 18995, 19052, 19272, 19587, 19613],\n",
       "      dtype=int64)"
      ]
     },
     "execution_count": 55,
     "metadata": {},
     "output_type": "execute_result"
    }
   ],
   "source": [
    "pred = outliers.predict(x)\n",
    "#Pedimos que prediga con ese modelo, cuáles son los valores que forman parte del 1% que se buscan detectar.\n",
    "\n",
    "pred \n",
    "#Esto es un array de 1 y -1. Los casos a detectar son los -1\n",
    "\n",
    "elips_outliers = np.where( pred==-1 )[0]\n",
    "#Esta es una lista de todos los \"index\" de aquellos csos que están muy alejados de los \n",
    "# valores centrales de todas las variables estudiadas, es decir, los \"outliers\"\n",
    "\n",
    "elips_outliers"
   ]
  },
  {
   "cell_type": "markdown",
   "id": "9a2c3ad8",
   "metadata": {},
   "source": [
    "## Principios de las bases de datos relacionales\n",
    "\n",
    "Se explora una de las estructuras más famosas para gestionar y almacenar bases de datos. El más utilizado cuando se trata de bases de datos ya planificadas.\n",
    "\n",
    "* Las tablas se conectan con una **clave primaria**, que deben ser **únicas** y permitan identificar solo a los **registros** de cada tabla. \n",
    "* Las **claves primarias** no necesariamente deben ser únicas **en una sola tabla**. \n",
    "* En cada tabla, las combinaciones de **claves primarias**, debe de ser **única**.\n",
    "* Mantiene la integridad referencial de los datos. No importa si se elimina un cliente, la estructura se mantiene.\n",
    "* Cuando se tienen volúmenes importantes de datos, un reto es: **¿Qué estructura relacional se construirá para albergar la información?**\n",
    "\n",
    "Diseñar una estructura de base de datos relacional es muy **complejo**, pero muy **eficiente**, pues hay que considerar principios de no duplicidad y la integridad de datos de manera correcta."
   ]
  },
  {
   "cell_type": "markdown",
   "id": "270b2444",
   "metadata": {},
   "source": [
    "## Transformar un dataframe en una base de datos relacional\n",
    "\n",
    "Se muestra un ejemplo práctico de cómo transformar un *dataframe* en una *base de datos relacional*"
   ]
  },
  {
   "cell_type": "code",
   "execution_count": 56,
   "id": "d805ce8a",
   "metadata": {},
   "outputs": [],
   "source": [
    "import pandas as pd\n",
    "\n",
    "data = [(1, \"Joan\", \"Gasull\", 25, 1, \"Libreta\", 1.2, .4, 0.8, 3, \"03-02-2018\"),\n",
    "       (1, \"Joan\", \"Gasull\", 25, 2, \"Bolígrafo\", 0.4, 0.15, 0.25, 1, \"03-02-2018\"),\n",
    "       (1, \"Joan\", \"Gasull\", 25, 1, \"Libreta\", 1.2, .4, 0.8, 2, \"15-02-2018\"),\n",
    "       (2, \"Joan\", \"López\", 33, 2, \"Bolígrafo\", 0.4, 0.15, 0.25, 4, \"01-02-2018\"),\n",
    "       (2, \"Joan\", \"López\", 33, 1, \"Libreta\", 1.2, 0.4, 0.8, 10, \"05-03-2018\"),\n",
    "       (3, \"María\", \"García\", 40, 1, \"Libreta\", 1.2, .4, 0.8, 20, \"13-04-2018\"),\n",
    "       (3, \"María\", \"García\", 40, 2, \"Bolígrafo\", 0.4, 0.15, 0.25, 1, \"09-02-2018\"),\n",
    "       (3, \"María\", \"García\", 40, 2, \"Bolígrafo\", 0.4, 0.15, 0.25, 3, \"03-04-2018\")]\n",
    "\n",
    "labels = [\"COMPRADOR_ID\",\"NOMBRE\",\"APELLIDO\",\"EDAD\",\"PRODUCTO_ID\",\"PRODUCTO\",\n",
    "          \"PRECIO\",\"COSTE\",\"MARGEN\",\"CANTIDAD\",\"FECHA\"]"
   ]
  },
  {
   "cell_type": "code",
   "execution_count": 63,
   "id": "dc8ee281",
   "metadata": {},
   "outputs": [
    {
     "data": {
      "text/html": [
       "<div>\n",
       "<style scoped>\n",
       "    .dataframe tbody tr th:only-of-type {\n",
       "        vertical-align: middle;\n",
       "    }\n",
       "\n",
       "    .dataframe tbody tr th {\n",
       "        vertical-align: top;\n",
       "    }\n",
       "\n",
       "    .dataframe thead th {\n",
       "        text-align: right;\n",
       "    }\n",
       "</style>\n",
       "<table border=\"1\" class=\"dataframe\">\n",
       "  <thead>\n",
       "    <tr style=\"text-align: right;\">\n",
       "      <th></th>\n",
       "      <th>COMPRADOR_ID</th>\n",
       "      <th>NOMBRE</th>\n",
       "      <th>APELLIDO</th>\n",
       "      <th>EDAD</th>\n",
       "      <th>PRODUCTO_ID</th>\n",
       "      <th>PRODUCTO</th>\n",
       "      <th>PRECIO</th>\n",
       "      <th>COSTE</th>\n",
       "      <th>MARGEN</th>\n",
       "      <th>CANTIDAD</th>\n",
       "      <th>FECHA</th>\n",
       "    </tr>\n",
       "  </thead>\n",
       "  <tbody>\n",
       "    <tr>\n",
       "      <th>0</th>\n",
       "      <td>1</td>\n",
       "      <td>Joan</td>\n",
       "      <td>Gasull</td>\n",
       "      <td>25</td>\n",
       "      <td>1</td>\n",
       "      <td>Libreta</td>\n",
       "      <td>1.2</td>\n",
       "      <td>0.40</td>\n",
       "      <td>0.80</td>\n",
       "      <td>3</td>\n",
       "      <td>03-02-2018</td>\n",
       "    </tr>\n",
       "    <tr>\n",
       "      <th>1</th>\n",
       "      <td>1</td>\n",
       "      <td>Joan</td>\n",
       "      <td>Gasull</td>\n",
       "      <td>25</td>\n",
       "      <td>2</td>\n",
       "      <td>Bolígrafo</td>\n",
       "      <td>0.4</td>\n",
       "      <td>0.15</td>\n",
       "      <td>0.25</td>\n",
       "      <td>1</td>\n",
       "      <td>03-02-2018</td>\n",
       "    </tr>\n",
       "    <tr>\n",
       "      <th>2</th>\n",
       "      <td>1</td>\n",
       "      <td>Joan</td>\n",
       "      <td>Gasull</td>\n",
       "      <td>25</td>\n",
       "      <td>1</td>\n",
       "      <td>Libreta</td>\n",
       "      <td>1.2</td>\n",
       "      <td>0.40</td>\n",
       "      <td>0.80</td>\n",
       "      <td>2</td>\n",
       "      <td>15-02-2018</td>\n",
       "    </tr>\n",
       "  </tbody>\n",
       "</table>\n",
       "</div>"
      ],
      "text/plain": [
       "   COMPRADOR_ID NOMBRE APELLIDO  EDAD  PRODUCTO_ID   PRODUCTO  PRECIO  COSTE  \\\n",
       "0             1   Joan   Gasull    25            1    Libreta     1.2   0.40   \n",
       "1             1   Joan   Gasull    25            2  Bolígrafo     0.4   0.15   \n",
       "2             1   Joan   Gasull    25            1    Libreta     1.2   0.40   \n",
       "\n",
       "   MARGEN  CANTIDAD       FECHA  \n",
       "0    0.80         3  03-02-2018  \n",
       "1    0.25         1  03-02-2018  \n",
       "2    0.80         2  15-02-2018  "
      ]
     },
     "execution_count": 63,
     "metadata": {},
     "output_type": "execute_result"
    }
   ],
   "source": [
    "df = pd.DataFrame.from_records( data, columns=labels )\n",
    "#Con esto se transforma la \"data\" a un \"dataframe\"\n",
    "\n",
    "df.head(3)"
   ]
  },
  {
   "cell_type": "markdown",
   "id": "b7ca78ad",
   "metadata": {},
   "source": [
    "Como se puede apreciar, hay nombres repetidos. Procedemos a dividir esta información en subtablas que contengan información necesaria.\n",
    "\n",
    "Adicionalmente, es necesario mencionar que en éste ejemplo se tienen pocas columnas; sin embargo, si se tuvieran bastantes **campos/variables**, podría ser muy tedioso y complicado"
   ]
  },
  {
   "cell_type": "code",
   "execution_count": 76,
   "id": "6211836d",
   "metadata": {},
   "outputs": [
    {
     "data": {
      "text/html": [
       "<div>\n",
       "<style scoped>\n",
       "    .dataframe tbody tr th:only-of-type {\n",
       "        vertical-align: middle;\n",
       "    }\n",
       "\n",
       "    .dataframe tbody tr th {\n",
       "        vertical-align: top;\n",
       "    }\n",
       "\n",
       "    .dataframe thead th {\n",
       "        text-align: right;\n",
       "    }\n",
       "</style>\n",
       "<table border=\"1\" class=\"dataframe\">\n",
       "  <thead>\n",
       "    <tr style=\"text-align: right;\">\n",
       "      <th></th>\n",
       "      <th>COMPRADOR_ID</th>\n",
       "      <th>NOMBRE</th>\n",
       "      <th>APELLIDO</th>\n",
       "      <th>EDAD</th>\n",
       "    </tr>\n",
       "  </thead>\n",
       "  <tbody>\n",
       "    <tr>\n",
       "      <th>0</th>\n",
       "      <td>1</td>\n",
       "      <td>Joan</td>\n",
       "      <td>Gasull</td>\n",
       "      <td>25</td>\n",
       "    </tr>\n",
       "    <tr>\n",
       "      <th>3</th>\n",
       "      <td>2</td>\n",
       "      <td>Joan</td>\n",
       "      <td>López</td>\n",
       "      <td>33</td>\n",
       "    </tr>\n",
       "    <tr>\n",
       "      <th>5</th>\n",
       "      <td>3</td>\n",
       "      <td>María</td>\n",
       "      <td>García</td>\n",
       "      <td>40</td>\n",
       "    </tr>\n",
       "  </tbody>\n",
       "</table>\n",
       "</div>"
      ],
      "text/plain": [
       "   COMPRADOR_ID NOMBRE APELLIDO  EDAD\n",
       "0             1   Joan   Gasull    25\n",
       "3             2   Joan    López    33\n",
       "5             3  María   García    40"
      ]
     },
     "execution_count": 76,
     "metadata": {},
     "output_type": "execute_result"
    }
   ],
   "source": [
    "compradores = df.drop_duplicates( subset=[\"COMPRADOR_ID\",\"NOMBRE\",\"APELLIDO\",\"EDAD\"], keep=\"first\" )\n",
    "compradores_2 = compradores.loc[ :,[\"COMPRADOR_ID\",\"NOMBRE\",\"APELLIDO\",\"EDAD\"] ]\n",
    "\n",
    "compradores_2"
   ]
  },
  {
   "cell_type": "code",
   "execution_count": 77,
   "id": "690ed873",
   "metadata": {},
   "outputs": [
    {
     "data": {
      "text/html": [
       "<div>\n",
       "<style scoped>\n",
       "    .dataframe tbody tr th:only-of-type {\n",
       "        vertical-align: middle;\n",
       "    }\n",
       "\n",
       "    .dataframe tbody tr th {\n",
       "        vertical-align: top;\n",
       "    }\n",
       "\n",
       "    .dataframe thead th {\n",
       "        text-align: right;\n",
       "    }\n",
       "</style>\n",
       "<table border=\"1\" class=\"dataframe\">\n",
       "  <thead>\n",
       "    <tr style=\"text-align: right;\">\n",
       "      <th></th>\n",
       "      <th>PRODUCTO_ID</th>\n",
       "      <th>PRODUCTO</th>\n",
       "      <th>PRECIO</th>\n",
       "      <th>COSTE</th>\n",
       "      <th>MARGEN</th>\n",
       "    </tr>\n",
       "  </thead>\n",
       "  <tbody>\n",
       "    <tr>\n",
       "      <th>0</th>\n",
       "      <td>1</td>\n",
       "      <td>Libreta</td>\n",
       "      <td>1.2</td>\n",
       "      <td>0.40</td>\n",
       "      <td>0.80</td>\n",
       "    </tr>\n",
       "    <tr>\n",
       "      <th>1</th>\n",
       "      <td>2</td>\n",
       "      <td>Bolígrafo</td>\n",
       "      <td>0.4</td>\n",
       "      <td>0.15</td>\n",
       "      <td>0.25</td>\n",
       "    </tr>\n",
       "  </tbody>\n",
       "</table>\n",
       "</div>"
      ],
      "text/plain": [
       "   PRODUCTO_ID   PRODUCTO  PRECIO  COSTE  MARGEN\n",
       "0            1    Libreta     1.2   0.40    0.80\n",
       "1            2  Bolígrafo     0.4   0.15    0.25"
      ]
     },
     "execution_count": 77,
     "metadata": {},
     "output_type": "execute_result"
    }
   ],
   "source": [
    "productos = df.drop_duplicates( subset=[\"PRODUCTO_ID\",\"PRODUCTO\",\"PRECIO\",\"COSTE\",\"MARGEN\"], keep=\"first\" )\n",
    "productos_2 = productos.loc[ :,[\"PRODUCTO_ID\",\"PRODUCTO\",\"PRECIO\",\"COSTE\",\"MARGEN\"] ]\n",
    "\n",
    "productos_2"
   ]
  },
  {
   "cell_type": "code",
   "execution_count": 78,
   "id": "88e47ea0",
   "metadata": {},
   "outputs": [
    {
     "data": {
      "text/html": [
       "<div>\n",
       "<style scoped>\n",
       "    .dataframe tbody tr th:only-of-type {\n",
       "        vertical-align: middle;\n",
       "    }\n",
       "\n",
       "    .dataframe tbody tr th {\n",
       "        vertical-align: top;\n",
       "    }\n",
       "\n",
       "    .dataframe thead th {\n",
       "        text-align: right;\n",
       "    }\n",
       "</style>\n",
       "<table border=\"1\" class=\"dataframe\">\n",
       "  <thead>\n",
       "    <tr style=\"text-align: right;\">\n",
       "      <th></th>\n",
       "      <th>COMPRADOR_ID</th>\n",
       "      <th>PRODUCTO_ID</th>\n",
       "      <th>FECHA</th>\n",
       "      <th>CANTIDAD</th>\n",
       "    </tr>\n",
       "  </thead>\n",
       "  <tbody>\n",
       "    <tr>\n",
       "      <th>0</th>\n",
       "      <td>1</td>\n",
       "      <td>1</td>\n",
       "      <td>03-02-2018</td>\n",
       "      <td>3</td>\n",
       "    </tr>\n",
       "    <tr>\n",
       "      <th>1</th>\n",
       "      <td>1</td>\n",
       "      <td>2</td>\n",
       "      <td>03-02-2018</td>\n",
       "      <td>1</td>\n",
       "    </tr>\n",
       "    <tr>\n",
       "      <th>2</th>\n",
       "      <td>1</td>\n",
       "      <td>1</td>\n",
       "      <td>15-02-2018</td>\n",
       "      <td>2</td>\n",
       "    </tr>\n",
       "    <tr>\n",
       "      <th>3</th>\n",
       "      <td>2</td>\n",
       "      <td>2</td>\n",
       "      <td>01-02-2018</td>\n",
       "      <td>4</td>\n",
       "    </tr>\n",
       "    <tr>\n",
       "      <th>4</th>\n",
       "      <td>2</td>\n",
       "      <td>1</td>\n",
       "      <td>05-03-2018</td>\n",
       "      <td>10</td>\n",
       "    </tr>\n",
       "    <tr>\n",
       "      <th>5</th>\n",
       "      <td>3</td>\n",
       "      <td>1</td>\n",
       "      <td>13-04-2018</td>\n",
       "      <td>20</td>\n",
       "    </tr>\n",
       "    <tr>\n",
       "      <th>6</th>\n",
       "      <td>3</td>\n",
       "      <td>2</td>\n",
       "      <td>09-02-2018</td>\n",
       "      <td>1</td>\n",
       "    </tr>\n",
       "    <tr>\n",
       "      <th>7</th>\n",
       "      <td>3</td>\n",
       "      <td>2</td>\n",
       "      <td>03-04-2018</td>\n",
       "      <td>3</td>\n",
       "    </tr>\n",
       "  </tbody>\n",
       "</table>\n",
       "</div>"
      ],
      "text/plain": [
       "   COMPRADOR_ID  PRODUCTO_ID       FECHA  CANTIDAD\n",
       "0             1            1  03-02-2018         3\n",
       "1             1            2  03-02-2018         1\n",
       "2             1            1  15-02-2018         2\n",
       "3             2            2  01-02-2018         4\n",
       "4             2            1  05-03-2018        10\n",
       "5             3            1  13-04-2018        20\n",
       "6             3            2  09-02-2018         1\n",
       "7             3            2  03-04-2018         3"
      ]
     },
     "execution_count": 78,
     "metadata": {},
     "output_type": "execute_result"
    }
   ],
   "source": [
    "compras = df.drop_duplicates( subset=[\"COMPRADOR_ID\",\"PRODUCTO_ID\",\"FECHA\",\"CANTIDAD\"], keep=\"first\" )\n",
    "compras_2 = compras.loc[ :,[\"COMPRADOR_ID\",\"PRODUCTO_ID\",\"FECHA\",\"CANTIDAD\"] ]\n",
    "compras_2"
   ]
  },
  {
   "cell_type": "markdown",
   "id": "91848db6",
   "metadata": {},
   "source": [
    "## Joins. Trabajar con bases de datos relacionales.\n",
    "\n",
    "Vamos a ver cómo operar con las principales funciones para **unir distintas bases de datos en una misma estructura**. Estas funciones se llaman **\"joins\"** y hay de distintos tipos."
   ]
  },
  {
   "cell_type": "code",
   "execution_count": 80,
   "id": "f753f150",
   "metadata": {},
   "outputs": [],
   "source": [
    "import pandas as pd\n",
    "\n",
    "consumidores = [(\"A\",\"Móvil\"),(\"B\",\"Móvil\"),(\"A\",\"Portátil\"),(\"A\",\"Tablet\"),\n",
    "                (\"B\",\"Tablet\"),(\"C\",\"Portátil\"),(\"D\",\"Smartwatch\"),(\"E\",\"Consola\")]\n",
    "\n",
    "con_labels = [\"Consumidor\",\"Producto\"]\n",
    "\n",
    "con_df = pd.DataFrame.from_records( consumidores, columns=con_labels )\n",
    "\n",
    "productores = [(\"a\",\"Móvil\"),(\"a\",\"Smartwatch\"),(\"a\",\"Tablet\"),(\"b\",\"Portátil\"),\n",
    "               (\"c\",\"Sobremesa\"),(\"c\",\"Portátil\")]\n",
    "\n",
    "prod_labels = [\"Productor\",\"Producto\"]\n",
    "\n",
    "prod_df = pd.DataFrame.from_records( productores, columns=prod_labels )"
   ]
  },
  {
   "cell_type": "code",
   "execution_count": 86,
   "id": "cf333149",
   "metadata": {},
   "outputs": [
    {
     "data": {
      "text/html": [
       "<div>\n",
       "<style scoped>\n",
       "    .dataframe tbody tr th:only-of-type {\n",
       "        vertical-align: middle;\n",
       "    }\n",
       "\n",
       "    .dataframe tbody tr th {\n",
       "        vertical-align: top;\n",
       "    }\n",
       "\n",
       "    .dataframe thead th {\n",
       "        text-align: right;\n",
       "    }\n",
       "</style>\n",
       "<table border=\"1\" class=\"dataframe\">\n",
       "  <thead>\n",
       "    <tr style=\"text-align: right;\">\n",
       "      <th></th>\n",
       "      <th>Consumidor</th>\n",
       "      <th>Producto</th>\n",
       "    </tr>\n",
       "  </thead>\n",
       "  <tbody>\n",
       "    <tr>\n",
       "      <th>0</th>\n",
       "      <td>A</td>\n",
       "      <td>Móvil</td>\n",
       "    </tr>\n",
       "    <tr>\n",
       "      <th>1</th>\n",
       "      <td>B</td>\n",
       "      <td>Móvil</td>\n",
       "    </tr>\n",
       "    <tr>\n",
       "      <th>2</th>\n",
       "      <td>A</td>\n",
       "      <td>Portátil</td>\n",
       "    </tr>\n",
       "    <tr>\n",
       "      <th>3</th>\n",
       "      <td>A</td>\n",
       "      <td>Tablet</td>\n",
       "    </tr>\n",
       "    <tr>\n",
       "      <th>4</th>\n",
       "      <td>B</td>\n",
       "      <td>Tablet</td>\n",
       "    </tr>\n",
       "  </tbody>\n",
       "</table>\n",
       "</div>"
      ],
      "text/plain": [
       "  Consumidor  Producto\n",
       "0          A     Móvil\n",
       "1          B     Móvil\n",
       "2          A  Portátil\n",
       "3          A    Tablet\n",
       "4          B    Tablet"
      ]
     },
     "execution_count": 86,
     "metadata": {},
     "output_type": "execute_result"
    }
   ],
   "source": [
    "con_df.head()"
   ]
  },
  {
   "cell_type": "code",
   "execution_count": 84,
   "id": "633f84cb",
   "metadata": {},
   "outputs": [
    {
     "data": {
      "text/html": [
       "<div>\n",
       "<style scoped>\n",
       "    .dataframe tbody tr th:only-of-type {\n",
       "        vertical-align: middle;\n",
       "    }\n",
       "\n",
       "    .dataframe tbody tr th {\n",
       "        vertical-align: top;\n",
       "    }\n",
       "\n",
       "    .dataframe thead th {\n",
       "        text-align: right;\n",
       "    }\n",
       "</style>\n",
       "<table border=\"1\" class=\"dataframe\">\n",
       "  <thead>\n",
       "    <tr style=\"text-align: right;\">\n",
       "      <th></th>\n",
       "      <th>Productor</th>\n",
       "      <th>Producto</th>\n",
       "    </tr>\n",
       "  </thead>\n",
       "  <tbody>\n",
       "    <tr>\n",
       "      <th>0</th>\n",
       "      <td>a</td>\n",
       "      <td>Móvil</td>\n",
       "    </tr>\n",
       "    <tr>\n",
       "      <th>1</th>\n",
       "      <td>a</td>\n",
       "      <td>Smartwatch</td>\n",
       "    </tr>\n",
       "    <tr>\n",
       "      <th>2</th>\n",
       "      <td>a</td>\n",
       "      <td>Tablet</td>\n",
       "    </tr>\n",
       "    <tr>\n",
       "      <th>3</th>\n",
       "      <td>b</td>\n",
       "      <td>Portátil</td>\n",
       "    </tr>\n",
       "    <tr>\n",
       "      <th>4</th>\n",
       "      <td>c</td>\n",
       "      <td>Sobremesa</td>\n",
       "    </tr>\n",
       "  </tbody>\n",
       "</table>\n",
       "</div>"
      ],
      "text/plain": [
       "  Productor    Producto\n",
       "0         a       Móvil\n",
       "1         a  Smartwatch\n",
       "2         a      Tablet\n",
       "3         b    Portátil\n",
       "4         c   Sobremesa"
      ]
     },
     "execution_count": 84,
     "metadata": {},
     "output_type": "execute_result"
    }
   ],
   "source": [
    "prod_df.head()\n",
    "#Los resultados no están en orden bajo ningún criterio"
   ]
  },
  {
   "cell_type": "code",
   "execution_count": 98,
   "id": "ec0295ae",
   "metadata": {},
   "outputs": [
    {
     "data": {
      "text/html": [
       "<div>\n",
       "<style scoped>\n",
       "    .dataframe tbody tr th:only-of-type {\n",
       "        vertical-align: middle;\n",
       "    }\n",
       "\n",
       "    .dataframe tbody tr th {\n",
       "        vertical-align: top;\n",
       "    }\n",
       "\n",
       "    .dataframe thead th {\n",
       "        text-align: right;\n",
       "    }\n",
       "</style>\n",
       "<table border=\"1\" class=\"dataframe\">\n",
       "  <thead>\n",
       "    <tr style=\"text-align: right;\">\n",
       "      <th></th>\n",
       "      <th>Consumidor</th>\n",
       "      <th>Producto</th>\n",
       "      <th>Productor</th>\n",
       "    </tr>\n",
       "  </thead>\n",
       "  <tbody>\n",
       "    <tr>\n",
       "      <th>6</th>\n",
       "      <td>A</td>\n",
       "      <td>Tablet</td>\n",
       "      <td>a</td>\n",
       "    </tr>\n",
       "    <tr>\n",
       "      <th>7</th>\n",
       "      <td>B</td>\n",
       "      <td>Tablet</td>\n",
       "      <td>a</td>\n",
       "    </tr>\n",
       "    <tr>\n",
       "      <th>8</th>\n",
       "      <td>D</td>\n",
       "      <td>Smartwatch</td>\n",
       "      <td>a</td>\n",
       "    </tr>\n",
       "    <tr>\n",
       "      <th>9</th>\n",
       "      <td>E</td>\n",
       "      <td>Consola</td>\n",
       "      <td>NaN</td>\n",
       "    </tr>\n",
       "    <tr>\n",
       "      <th>10</th>\n",
       "      <td>NaN</td>\n",
       "      <td>Sobremesa</td>\n",
       "      <td>c</td>\n",
       "    </tr>\n",
       "  </tbody>\n",
       "</table>\n",
       "</div>"
      ],
      "text/plain": [
       "   Consumidor    Producto Productor\n",
       "6           A      Tablet         a\n",
       "7           B      Tablet         a\n",
       "8           D  Smartwatch         a\n",
       "9           E     Consola       NaN\n",
       "10        NaN   Sobremesa         c"
      ]
     },
     "execution_count": 98,
     "metadata": {},
     "output_type": "execute_result"
    }
   ],
   "source": [
    "unida = pd.merge(con_df,prod_df, on=\"Producto\", how=\"outer\")\n",
    "#\"merge\" permite unir las dos bases de datos.\n",
    "# \"on\" es la columna que aparece en ambas bases\n",
    "# \"how\" es el tipo de join que se utilizará. En este caso, se recurré a \"outer\"\n",
    "\n",
    "unida.tail()\n",
    "#No hay consumidor de Sobremensa y tanpoco hay productor para las consolas"
   ]
  },
  {
   "cell_type": "code",
   "execution_count": 101,
   "id": "660b6ade",
   "metadata": {},
   "outputs": [
    {
     "data": {
      "text/plain": [
       "['Consumidor', 'Producto', 'Productor']"
      ]
     },
     "execution_count": 101,
     "metadata": {},
     "output_type": "execute_result"
    }
   ],
   "source": [
    "nombres = list(unida.columns)\n",
    "nombres"
   ]
  },
  {
   "cell_type": "code",
   "execution_count": 105,
   "id": "014b53f6",
   "metadata": {},
   "outputs": [
    {
     "data": {
      "text/html": [
       "<div>\n",
       "<style scoped>\n",
       "    .dataframe tbody tr th:only-of-type {\n",
       "        vertical-align: middle;\n",
       "    }\n",
       "\n",
       "    .dataframe tbody tr th {\n",
       "        vertical-align: top;\n",
       "    }\n",
       "\n",
       "    .dataframe thead th {\n",
       "        text-align: right;\n",
       "    }\n",
       "</style>\n",
       "<table border=\"1\" class=\"dataframe\">\n",
       "  <thead>\n",
       "    <tr style=\"text-align: right;\">\n",
       "      <th></th>\n",
       "      <th>Consumidor</th>\n",
       "      <th>Producto</th>\n",
       "      <th>Productor</th>\n",
       "    </tr>\n",
       "  </thead>\n",
       "  <tbody>\n",
       "    <tr>\n",
       "      <th>4</th>\n",
       "      <td>C</td>\n",
       "      <td>Portátil</td>\n",
       "      <td>b</td>\n",
       "    </tr>\n",
       "    <tr>\n",
       "      <th>5</th>\n",
       "      <td>C</td>\n",
       "      <td>Portátil</td>\n",
       "      <td>c</td>\n",
       "    </tr>\n",
       "    <tr>\n",
       "      <th>6</th>\n",
       "      <td>A</td>\n",
       "      <td>Tablet</td>\n",
       "      <td>a</td>\n",
       "    </tr>\n",
       "    <tr>\n",
       "      <th>7</th>\n",
       "      <td>B</td>\n",
       "      <td>Tablet</td>\n",
       "      <td>a</td>\n",
       "    </tr>\n",
       "    <tr>\n",
       "      <th>8</th>\n",
       "      <td>D</td>\n",
       "      <td>Smartwatch</td>\n",
       "      <td>a</td>\n",
       "    </tr>\n",
       "  </tbody>\n",
       "</table>\n",
       "</div>"
      ],
      "text/plain": [
       "  Consumidor    Producto Productor\n",
       "4          C    Portátil         b\n",
       "5          C    Portátil         c\n",
       "6          A      Tablet         a\n",
       "7          B      Tablet         a\n",
       "8          D  Smartwatch         a"
      ]
     },
     "execution_count": 105,
     "metadata": {},
     "output_type": "execute_result"
    }
   ],
   "source": [
    "unida_2 = unida.dropna(subset=nombres)\n",
    "\n",
    "unida_2.tail()\n",
    "#Ya no hay vacíos"
   ]
  },
  {
   "cell_type": "code",
   "execution_count": 109,
   "id": "3f765eb3",
   "metadata": {},
   "outputs": [
    {
     "data": {
      "text/html": [
       "<div>\n",
       "<style scoped>\n",
       "    .dataframe tbody tr th:only-of-type {\n",
       "        vertical-align: middle;\n",
       "    }\n",
       "\n",
       "    .dataframe tbody tr th {\n",
       "        vertical-align: top;\n",
       "    }\n",
       "\n",
       "    .dataframe thead th {\n",
       "        text-align: right;\n",
       "    }\n",
       "</style>\n",
       "<table border=\"1\" class=\"dataframe\">\n",
       "  <thead>\n",
       "    <tr style=\"text-align: right;\">\n",
       "      <th></th>\n",
       "      <th>Consumidor</th>\n",
       "      <th>Producto</th>\n",
       "      <th>Productor</th>\n",
       "    </tr>\n",
       "  </thead>\n",
       "  <tbody>\n",
       "    <tr>\n",
       "      <th>0</th>\n",
       "      <td>A</td>\n",
       "      <td>Móvil</td>\n",
       "      <td>a</td>\n",
       "    </tr>\n",
       "    <tr>\n",
       "      <th>1</th>\n",
       "      <td>B</td>\n",
       "      <td>Móvil</td>\n",
       "      <td>a</td>\n",
       "    </tr>\n",
       "    <tr>\n",
       "      <th>2</th>\n",
       "      <td>A</td>\n",
       "      <td>Portátil</td>\n",
       "      <td>b</td>\n",
       "    </tr>\n",
       "    <tr>\n",
       "      <th>3</th>\n",
       "      <td>A</td>\n",
       "      <td>Portátil</td>\n",
       "      <td>c</td>\n",
       "    </tr>\n",
       "    <tr>\n",
       "      <th>4</th>\n",
       "      <td>C</td>\n",
       "      <td>Portátil</td>\n",
       "      <td>b</td>\n",
       "    </tr>\n",
       "    <tr>\n",
       "      <th>5</th>\n",
       "      <td>C</td>\n",
       "      <td>Portátil</td>\n",
       "      <td>c</td>\n",
       "    </tr>\n",
       "    <tr>\n",
       "      <th>6</th>\n",
       "      <td>A</td>\n",
       "      <td>Tablet</td>\n",
       "      <td>a</td>\n",
       "    </tr>\n",
       "    <tr>\n",
       "      <th>7</th>\n",
       "      <td>B</td>\n",
       "      <td>Tablet</td>\n",
       "      <td>a</td>\n",
       "    </tr>\n",
       "    <tr>\n",
       "      <th>8</th>\n",
       "      <td>D</td>\n",
       "      <td>Smartwatch</td>\n",
       "      <td>a</td>\n",
       "    </tr>\n",
       "  </tbody>\n",
       "</table>\n",
       "</div>"
      ],
      "text/plain": [
       "  Consumidor    Producto Productor\n",
       "0          A       Móvil         a\n",
       "1          B       Móvil         a\n",
       "2          A    Portátil         b\n",
       "3          A    Portátil         c\n",
       "4          C    Portátil         b\n",
       "5          C    Portátil         c\n",
       "6          A      Tablet         a\n",
       "7          B      Tablet         a\n",
       "8          D  Smartwatch         a"
      ]
     },
     "execution_count": 109,
     "metadata": {},
     "output_type": "execute_result"
    }
   ],
   "source": [
    "unida_3 = pd.merge(con_df,prod_df,how=\"inner\")\n",
    "\n",
    "unida_3\n",
    "#Aquí aparece la intersección de los productos. No hay faltantes"
   ]
  },
  {
   "cell_type": "code",
   "execution_count": 117,
   "id": "05ca3d21",
   "metadata": {},
   "outputs": [
    {
     "data": {
      "text/html": [
       "<div>\n",
       "<style scoped>\n",
       "    .dataframe tbody tr th:only-of-type {\n",
       "        vertical-align: middle;\n",
       "    }\n",
       "\n",
       "    .dataframe tbody tr th {\n",
       "        vertical-align: top;\n",
       "    }\n",
       "\n",
       "    .dataframe thead th {\n",
       "        text-align: right;\n",
       "    }\n",
       "</style>\n",
       "<table border=\"1\" class=\"dataframe\">\n",
       "  <thead>\n",
       "    <tr style=\"text-align: right;\">\n",
       "      <th></th>\n",
       "      <th>Consumidor</th>\n",
       "      <th>Producto</th>\n",
       "      <th>Productor</th>\n",
       "    </tr>\n",
       "  </thead>\n",
       "  <tbody>\n",
       "    <tr>\n",
       "      <th>0</th>\n",
       "      <td>A</td>\n",
       "      <td>Móvil</td>\n",
       "      <td>a</td>\n",
       "    </tr>\n",
       "    <tr>\n",
       "      <th>1</th>\n",
       "      <td>B</td>\n",
       "      <td>Móvil</td>\n",
       "      <td>a</td>\n",
       "    </tr>\n",
       "    <tr>\n",
       "      <th>2</th>\n",
       "      <td>D</td>\n",
       "      <td>Smartwatch</td>\n",
       "      <td>a</td>\n",
       "    </tr>\n",
       "    <tr>\n",
       "      <th>3</th>\n",
       "      <td>A</td>\n",
       "      <td>Tablet</td>\n",
       "      <td>a</td>\n",
       "    </tr>\n",
       "    <tr>\n",
       "      <th>4</th>\n",
       "      <td>B</td>\n",
       "      <td>Tablet</td>\n",
       "      <td>a</td>\n",
       "    </tr>\n",
       "    <tr>\n",
       "      <th>5</th>\n",
       "      <td>A</td>\n",
       "      <td>Portátil</td>\n",
       "      <td>b</td>\n",
       "    </tr>\n",
       "    <tr>\n",
       "      <th>6</th>\n",
       "      <td>C</td>\n",
       "      <td>Portátil</td>\n",
       "      <td>b</td>\n",
       "    </tr>\n",
       "    <tr>\n",
       "      <th>7</th>\n",
       "      <td>NaN</td>\n",
       "      <td>Sobremesa</td>\n",
       "      <td>c</td>\n",
       "    </tr>\n",
       "    <tr>\n",
       "      <th>8</th>\n",
       "      <td>A</td>\n",
       "      <td>Portátil</td>\n",
       "      <td>c</td>\n",
       "    </tr>\n",
       "    <tr>\n",
       "      <th>9</th>\n",
       "      <td>C</td>\n",
       "      <td>Portátil</td>\n",
       "      <td>c</td>\n",
       "    </tr>\n",
       "  </tbody>\n",
       "</table>\n",
       "</div>"
      ],
      "text/plain": [
       "  Consumidor    Producto Productor\n",
       "0          A       Móvil         a\n",
       "1          B       Móvil         a\n",
       "2          D  Smartwatch         a\n",
       "3          A      Tablet         a\n",
       "4          B      Tablet         a\n",
       "5          A    Portátil         b\n",
       "6          C    Portátil         b\n",
       "7        NaN   Sobremesa         c\n",
       "8          A    Portátil         c\n",
       "9          C    Portátil         c"
      ]
     },
     "execution_count": 117,
     "metadata": {},
     "output_type": "execute_result"
    }
   ],
   "source": [
    "pd.merge(con_df,prod_df,on=\"Producto\", how=\"right\")\n",
    "#Nos une los dos data frames, pero SOLAMENTE SI encuentra la clave en el data frame de la derecha.\n",
    "# Sucedería algo análogo a si se colocara how=\"left\""
   ]
  },
  {
   "cell_type": "markdown",
   "id": "8f9d451e",
   "metadata": {},
   "source": [
    "## Paralelizar loops en Python \n",
    "\n",
    "Por **filtrado**, se entiende la **extracción de información relevante** en filas o columnas de datos."
   ]
  }
 ],
 "metadata": {
  "kernelspec": {
   "display_name": "Python 3 (ipykernel)",
   "language": "python",
   "name": "python3"
  },
  "language_info": {
   "codemirror_mode": {
    "name": "ipython",
    "version": 3
   },
   "file_extension": ".py",
   "mimetype": "text/x-python",
   "name": "python",
   "nbconvert_exporter": "python",
   "pygments_lexer": "ipython3",
   "version": "3.9.7"
  }
 },
 "nbformat": 4,
 "nbformat_minor": 5
}
