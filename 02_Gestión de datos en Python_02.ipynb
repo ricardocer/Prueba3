{
 "cells": [
  {
   "cell_type": "markdown",
   "id": "10f87c9b",
   "metadata": {},
   "source": [
    "## Tratar datos duplicados y perdidos\n",
    "\n",
    "Se exploran dos temas fundamentales para el análisis de datos: **gestión de la información duplicada** y la **gestión de la información faltante** o **\"missing data\"**."
   ]
  },
  {
   "cell_type": "code",
   "execution_count": 3,
   "id": "2934f1fa",
   "metadata": {},
   "outputs": [
    {
     "data": {
      "text/plain": [
       "['201128 Catalogos.xlsx',\n",
       " '201128 Descriptores_.xlsx',\n",
       " '220118COVID19MEXICO.csv',\n",
       " 'Actualizaciones en la presentación de información referente a casos de COVID.pdf',\n",
       " 'base_datos_2008.csv']"
      ]
     },
     "execution_count": 3,
     "metadata": {},
     "output_type": "execute_result"
    }
   ],
   "source": [
    "import pandas as pd\n",
    "import os\n",
    "\n",
    "path = \"C:\\COVID_pruebas\"\n",
    "os.listdir(path)\n",
    "#Esto me dice cuáles son los archivos de esa ruta"
   ]
  },
  {
   "cell_type": "markdown",
   "id": "a9767a5c",
   "metadata": {},
   "source": [
    "### ***Gestión de registros duplicados***\n",
    "\n",
    "A continuación, se presenta un ejemplo de cómo eliminar datos duplicados con la función ***.drop_duplicates()***"
   ]
  },
  {
   "cell_type": "code",
   "execution_count": 26,
   "id": "b37907ec",
   "metadata": {},
   "outputs": [
    {
     "name": "stdout",
     "output_type": "stream",
     "text": [
      "Las dimensiones son: (1000000, 29)\n"
     ]
    }
   ],
   "source": [
    "n = 10**6\n",
    "df = pd.read_csv(r\"C:\\COVID_pruebas\\base_datos_2008.csv\", nrows=n )\n",
    "\n",
    "df.head(3)\n",
    "print(\"Las dimensiones son:\",df.shape)\n",
    "# No sabemos si nuestros datos tienen filas duplicadadas.\n",
    "# Se tienen 10**6 registros."
   ]
  },
  {
   "cell_type": "code",
   "execution_count": 30,
   "id": "c94bfc23",
   "metadata": {},
   "outputs": [
    {
     "name": "stdout",
     "output_type": "stream",
     "text": [
      "Las dimensiones son: (999996, 29)\n"
     ]
    }
   ],
   "source": [
    "df_clean = df.drop_duplicates()\n",
    "print(\"Las dimensiones son:\",df_clean.shape)"
   ]
  },
  {
   "cell_type": "code",
   "execution_count": 36,
   "id": "47b123e5",
   "metadata": {},
   "outputs": [
    {
     "name": "stdout",
     "output_type": "stream",
     "text": [
      "Elimina los datos duplicados. Únicamente se contempla un día del mes. Por ejemplo: No hay dos días 4\n",
      "Las dimensiones son: (31, 29)\n",
      "Un registro por cada día del mes\n"
     ]
    }
   ],
   "source": [
    "df_clean_2 = df.drop_duplicates(subset=\"DayofMonth\")\n",
    "\n",
    "df_clean_2.head()\n",
    "\n",
    "print(\"Elimina los datos duplicados. Únicamente se contempla un día del mes. Por ejemplo: No hay dos días 4\")\n",
    "print(\"Las dimensiones son:\",df_clean_2.shape)\n",
    "print(\"Un registro por cada día del mes\")"
   ]
  },
  {
   "cell_type": "markdown",
   "id": "6db4cf79",
   "metadata": {},
   "source": [
    "**Observación:** No se sabía que la tabla tenía datos duplicados, pero ya se eliminaron con **.drop_duplicates()**"
   ]
  },
  {
   "cell_type": "markdown",
   "id": "71d46f99",
   "metadata": {},
   "source": [
    "### ***Gestión de datos faltantes***\n",
    "\n",
    "A continuación, se presenta un ejemplo de cómo tratar con datos faltantes con la función ***.dropna()***"
   ]
  },
  {
   "cell_type": "code",
   "execution_count": 44,
   "id": "790c2e2d",
   "metadata": {},
   "outputs": [
    {
     "name": "stdout",
     "output_type": "stream",
     "text": [
      "Las dimensiones son: (0, 29)\n"
     ]
    }
   ],
   "source": [
    "df_datos_faltantes = df.dropna()\n",
    "print(\"Las dimensiones son:\",df_datos_faltantes.shape)\n",
    "#No se tienen datos faltantes en ningún registro, dado que se haya hecho el vuelo o no, queda la información del vuelo.\n",
    "# Lo que no habría, es hora de llegada y hora de salida."
   ]
  },
  {
   "cell_type": "code",
   "execution_count": 46,
   "id": "06e2ab6b",
   "metadata": {},
   "outputs": [
    {
     "data": {
      "text/html": [
       "<div>\n",
       "<style scoped>\n",
       "    .dataframe tbody tr th:only-of-type {\n",
       "        vertical-align: middle;\n",
       "    }\n",
       "\n",
       "    .dataframe tbody tr th {\n",
       "        vertical-align: top;\n",
       "    }\n",
       "\n",
       "    .dataframe thead th {\n",
       "        text-align: right;\n",
       "    }\n",
       "</style>\n",
       "<table border=\"1\" class=\"dataframe\">\n",
       "  <thead>\n",
       "    <tr style=\"text-align: right;\">\n",
       "      <th></th>\n",
       "      <th>Year</th>\n",
       "      <th>Month</th>\n",
       "      <th>DayofMonth</th>\n",
       "      <th>DayOfWeek</th>\n",
       "      <th>DepTime</th>\n",
       "      <th>CRSDepTime</th>\n",
       "      <th>ArrTime</th>\n",
       "      <th>CRSArrTime</th>\n",
       "      <th>UniqueCarrier</th>\n",
       "      <th>FlightNum</th>\n",
       "      <th>...</th>\n",
       "      <th>TaxiIn</th>\n",
       "      <th>TaxiOut</th>\n",
       "      <th>Cancelled</th>\n",
       "      <th>CancellationCode</th>\n",
       "      <th>Diverted</th>\n",
       "      <th>CarrierDelay</th>\n",
       "      <th>WeatherDelay</th>\n",
       "      <th>NASDelay</th>\n",
       "      <th>SecurityDelay</th>\n",
       "      <th>LateAircraftDelay</th>\n",
       "    </tr>\n",
       "  </thead>\n",
       "  <tbody>\n",
       "    <tr>\n",
       "      <th>178</th>\n",
       "      <td>2008</td>\n",
       "      <td>1</td>\n",
       "      <td>3</td>\n",
       "      <td>4</td>\n",
       "      <td>NaN</td>\n",
       "      <td>700</td>\n",
       "      <td>NaN</td>\n",
       "      <td>830</td>\n",
       "      <td>WN</td>\n",
       "      <td>126</td>\n",
       "      <td>...</td>\n",
       "      <td>NaN</td>\n",
       "      <td>NaN</td>\n",
       "      <td>1</td>\n",
       "      <td>A</td>\n",
       "      <td>0</td>\n",
       "      <td>NaN</td>\n",
       "      <td>NaN</td>\n",
       "      <td>NaN</td>\n",
       "      <td>NaN</td>\n",
       "      <td>NaN</td>\n",
       "    </tr>\n",
       "    <tr>\n",
       "      <th>373</th>\n",
       "      <td>2008</td>\n",
       "      <td>1</td>\n",
       "      <td>3</td>\n",
       "      <td>4</td>\n",
       "      <td>NaN</td>\n",
       "      <td>1100</td>\n",
       "      <td>NaN</td>\n",
       "      <td>1215</td>\n",
       "      <td>WN</td>\n",
       "      <td>1146</td>\n",
       "      <td>...</td>\n",
       "      <td>NaN</td>\n",
       "      <td>NaN</td>\n",
       "      <td>1</td>\n",
       "      <td>A</td>\n",
       "      <td>0</td>\n",
       "      <td>NaN</td>\n",
       "      <td>NaN</td>\n",
       "      <td>NaN</td>\n",
       "      <td>NaN</td>\n",
       "      <td>NaN</td>\n",
       "    </tr>\n",
       "    <tr>\n",
       "      <th>399</th>\n",
       "      <td>2008</td>\n",
       "      <td>1</td>\n",
       "      <td>3</td>\n",
       "      <td>4</td>\n",
       "      <td>NaN</td>\n",
       "      <td>905</td>\n",
       "      <td>NaN</td>\n",
       "      <td>1025</td>\n",
       "      <td>WN</td>\n",
       "      <td>469</td>\n",
       "      <td>...</td>\n",
       "      <td>NaN</td>\n",
       "      <td>NaN</td>\n",
       "      <td>1</td>\n",
       "      <td>A</td>\n",
       "      <td>0</td>\n",
       "      <td>NaN</td>\n",
       "      <td>NaN</td>\n",
       "      <td>NaN</td>\n",
       "      <td>NaN</td>\n",
       "      <td>NaN</td>\n",
       "    </tr>\n",
       "    <tr>\n",
       "      <th>401</th>\n",
       "      <td>2008</td>\n",
       "      <td>1</td>\n",
       "      <td>3</td>\n",
       "      <td>4</td>\n",
       "      <td>NaN</td>\n",
       "      <td>1620</td>\n",
       "      <td>NaN</td>\n",
       "      <td>1740</td>\n",
       "      <td>WN</td>\n",
       "      <td>618</td>\n",
       "      <td>...</td>\n",
       "      <td>NaN</td>\n",
       "      <td>NaN</td>\n",
       "      <td>1</td>\n",
       "      <td>C</td>\n",
       "      <td>0</td>\n",
       "      <td>NaN</td>\n",
       "      <td>NaN</td>\n",
       "      <td>NaN</td>\n",
       "      <td>NaN</td>\n",
       "      <td>NaN</td>\n",
       "    </tr>\n",
       "    <tr>\n",
       "      <th>415</th>\n",
       "      <td>2008</td>\n",
       "      <td>1</td>\n",
       "      <td>3</td>\n",
       "      <td>4</td>\n",
       "      <td>NaN</td>\n",
       "      <td>1930</td>\n",
       "      <td>NaN</td>\n",
       "      <td>2035</td>\n",
       "      <td>WN</td>\n",
       "      <td>2528</td>\n",
       "      <td>...</td>\n",
       "      <td>NaN</td>\n",
       "      <td>NaN</td>\n",
       "      <td>1</td>\n",
       "      <td>A</td>\n",
       "      <td>0</td>\n",
       "      <td>NaN</td>\n",
       "      <td>NaN</td>\n",
       "      <td>NaN</td>\n",
       "      <td>NaN</td>\n",
       "      <td>NaN</td>\n",
       "    </tr>\n",
       "  </tbody>\n",
       "</table>\n",
       "<p>5 rows × 29 columns</p>\n",
       "</div>"
      ],
      "text/plain": [
       "     Year  Month  DayofMonth  DayOfWeek  DepTime  CRSDepTime  ArrTime  \\\n",
       "178  2008      1           3          4      NaN         700      NaN   \n",
       "373  2008      1           3          4      NaN        1100      NaN   \n",
       "399  2008      1           3          4      NaN         905      NaN   \n",
       "401  2008      1           3          4      NaN        1620      NaN   \n",
       "415  2008      1           3          4      NaN        1930      NaN   \n",
       "\n",
       "     CRSArrTime UniqueCarrier  FlightNum  ... TaxiIn  TaxiOut  Cancelled  \\\n",
       "178         830            WN        126  ...    NaN      NaN          1   \n",
       "373        1215            WN       1146  ...    NaN      NaN          1   \n",
       "399        1025            WN        469  ...    NaN      NaN          1   \n",
       "401        1740            WN        618  ...    NaN      NaN          1   \n",
       "415        2035            WN       2528  ...    NaN      NaN          1   \n",
       "\n",
       "     CancellationCode  Diverted  CarrierDelay WeatherDelay NASDelay  \\\n",
       "178                 A         0           NaN          NaN      NaN   \n",
       "373                 A         0           NaN          NaN      NaN   \n",
       "399                 A         0           NaN          NaN      NaN   \n",
       "401                 C         0           NaN          NaN      NaN   \n",
       "415                 A         0           NaN          NaN      NaN   \n",
       "\n",
       "     SecurityDelay  LateAircraftDelay  \n",
       "178            NaN                NaN  \n",
       "373            NaN                NaN  \n",
       "399            NaN                NaN  \n",
       "401            NaN                NaN  \n",
       "415            NaN                NaN  \n",
       "\n",
       "[5 rows x 29 columns]"
      ]
     },
     "execution_count": 46,
     "metadata": {},
     "output_type": "execute_result"
    }
   ],
   "source": [
    "df[ pd.isna( df[\"DepTime\"] ) ].head()\n",
    "# Conocemos cuáles son los registros que no tienen un valor en \"DepTime\" "
   ]
  },
  {
   "cell_type": "code",
   "execution_count": 62,
   "id": "ed326960",
   "metadata": {},
   "outputs": [],
   "source": [
    "# Procedemos a eliminar esos registros\n",
    "\n",
    "df_no_faltantes = df.dropna( subset=[\"DepTime\"] )\n",
    "#Ya no hay datos faltantes en \"DepTime\""
   ]
  },
  {
   "cell_type": "markdown",
   "id": "15cef57b",
   "metadata": {},
   "source": [
    "## Introducción a la librería Numpy\n",
    "\n",
    "**Numpy** es uno de los paquetes orientados al análisis matemático y científico de datos, disponible para **Python**"
   ]
  },
  {
   "cell_type": "code",
   "execution_count": 63,
   "id": "4030788a",
   "metadata": {},
   "outputs": [],
   "source": [
    "import numpy as np"
   ]
  },
  {
   "cell_type": "code",
   "execution_count": 66,
   "id": "a11d2295",
   "metadata": {},
   "outputs": [
    {
     "data": {
      "text/plain": [
       "array([[1, 2, 3],\n",
       "       [4, 5, 6],\n",
       "       [7, 8, 9]])"
      ]
     },
     "execution_count": 66,
     "metadata": {},
     "output_type": "execute_result"
    }
   ],
   "source": [
    "valoraciones = np.array([ [1,2,3], [4,5,6], [7,8,9] ])\n",
    "\n",
    "valoraciones"
   ]
  }
 ],
 "metadata": {
  "kernelspec": {
   "display_name": "Python 3 (ipykernel)",
   "language": "python",
   "name": "python3"
  },
  "language_info": {
   "codemirror_mode": {
    "name": "ipython",
    "version": 3
   },
   "file_extension": ".py",
   "mimetype": "text/x-python",
   "name": "python",
   "nbconvert_exporter": "python",
   "pygments_lexer": "ipython3",
   "version": "3.9.7"
  }
 },
 "nbformat": 4,
 "nbformat_minor": 5
}
