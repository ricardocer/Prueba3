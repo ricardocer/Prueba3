{
 "cells": [
  {
   "cell_type": "code",
   "execution_count": 23,
   "id": "cubic-atlanta",
   "metadata": {},
   "outputs": [
    {
     "name": "stdout",
     "output_type": "stream",
     "text": [
      "La aproximación es:  3.142836\n"
     ]
    }
   ],
   "source": [
    "from random import random\n",
    "\n",
    "N = 10**6\n",
    "n = 0\n",
    "\n",
    "for i in range(N):\n",
    "    x = random()\n",
    "    y = random()\n",
    "    if x**2 + y**2 < 1:\n",
    "        n += 1\n",
    "    else: \n",
    "        n += 0\n",
    "    \n",
    "print(\"La aproximación es: \",4*(n/N))"
   ]
  }
 ],
 "metadata": {
  "kernelspec": {
   "display_name": "Python 3 (ipykernel)",
   "language": "python",
   "name": "python3"
  },
  "language_info": {
   "codemirror_mode": {
    "name": "ipython",
    "version": 3
   },
   "file_extension": ".py",
   "mimetype": "text/x-python",
   "name": "python",
   "nbconvert_exporter": "python",
   "pygments_lexer": "ipython3",
   "version": "3.9.7"
  }
 },
 "nbformat": 4,
 "nbformat_minor": 5
}
